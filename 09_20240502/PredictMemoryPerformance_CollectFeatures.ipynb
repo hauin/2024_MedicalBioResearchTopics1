{
 "cells": [
  {
   "cell_type": "markdown",
   "metadata": {},
   "source": [
    "### Import Modules"
   ]
  },
  {
   "cell_type": "code",
   "execution_count": 1,
   "metadata": {},
   "outputs": [],
   "source": [
    "import os\n",
    "import pandas as pd\n",
    "from functools import reduce"
   ]
  },
  {
   "cell_type": "markdown",
   "metadata": {},
   "source": [
    "### Read Training Data"
   ]
  },
  {
   "cell_type": "code",
   "execution_count": 3,
   "metadata": {},
   "outputs": [],
   "source": [
    "train_data_path = 'train'\n",
    "predictors_paths = {\n",
    "    'GM': os.path.join(train_data_path, 'GM.csv'),\n",
    "    'WM': os.path.join(train_data_path, 'WM.csv'),\n",
    "    'ReHo': os.path.join(train_data_path, 'ReHo.csv'),\n",
    "    'PCGcorr': os.path.join(train_data_path, 'PCGcorr.csv'),\n",
    "    'FA': os.path.join(train_data_path, 'FA.csv'),\n",
    "    'MD': os.path.join(train_data_path, 'MD.csv')\n",
    "}\n",
    "additional_variables_path = os.path.join(train_data_path, 'Subjects.csv')\n",
    "\n",
    "# Predictors\n",
    "modalities = ['GM', 'ReHo', 'MD']\n",
    "selected_modalities = {modality: predictors_paths[modality] for modality in modalities if modality in predictors_paths}\n",
    "def read_and_rename(modality, path):\n",
    "    df = pd.read_csv(path)\n",
    "    df = df.rename(columns={label: f\"{label}_{modality}\" for label in df.columns if label != 'ID'})\n",
    "    return df\n",
    "dfs = [read_and_rename(modality, path) for modality, path in selected_modalities.items()]\n",
    "predictors_df = reduce(lambda left, right: pd.merge(left, right, on='ID'), dfs)\n",
    "\n",
    "# Response and confounding variables\n",
    "additional_variables = ['Memory', 'Age', 'Sex', 'EducationYear']\n",
    "df = pd.read_csv(additional_variables_path)\n",
    "selected_variables = [variable for variable in additional_variables if variable in df.columns]\n",
    "additional_variables_df = df[[\"ID\"] + selected_variables]\n",
    "\n",
    "# Merge predictors with response and confounding variables on 'ID'\n",
    "df = pd.merge(additional_variables_df, predictors_df, on='ID').drop(columns=['ID'])\n",
    "df.to_csv('+'.join(modalities) + '.csv', index=False)"
   ]
  }
 ],
 "metadata": {
  "kernelspec": {
   "display_name": "pytorch_env",
   "language": "python",
   "name": "python3"
  },
  "language_info": {
   "codemirror_mode": {
    "name": "ipython",
    "version": 3
   },
   "file_extension": ".py",
   "mimetype": "text/x-python",
   "name": "python",
   "nbconvert_exporter": "python",
   "pygments_lexer": "ipython3",
   "version": "3.11.9"
  }
 },
 "nbformat": 4,
 "nbformat_minor": 2
}
